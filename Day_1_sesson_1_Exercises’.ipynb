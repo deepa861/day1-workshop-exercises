{
  "nbformat": 4,
  "nbformat_minor": 0,
  "metadata": {
    "colab": {
      "name": "Day 1 sesson 1 Exercises’.ipynb",
      "provenance": [],
      "collapsed_sections": [],
      "authorship_tag": "ABX9TyNx/gLucJntKyVe81n1uKts",
      "include_colab_link": true
    },
    "kernelspec": {
      "name": "python3",
      "display_name": "Python 3"
    }
  },
  "cells": [
    {
      "cell_type": "markdown",
      "metadata": {
        "id": "view-in-github",
        "colab_type": "text"
      },
      "source": [
        "<a href=\"https://colab.research.google.com/github/deepa861/day1-workshop-exercises/blob/master/Day_1_sesson_1_Exercises%E2%80%99.ipynb\" target=\"_parent\"><img src=\"https://colab.research.google.com/assets/colab-badge.svg\" alt=\"Open In Colab\"/></a>"
      ]
    },
    {
      "cell_type": "code",
      "metadata": {
        "id": "byahjpw6pR5Y",
        "colab_type": "code",
        "outputId": "23a3a1cb-7dba-4535-8099-5327e75eca13",
        "colab": {
          "base_uri": "https://localhost:8080/",
          "height": 34
        }
      },
      "source": [
        "def compound_interest(principle, rate, time): \n",
        "  \n",
        "    \n",
        "    CI = principle * (pow((1 + rate / 100), time)) \n",
        "    print(\"Compound interest is\", CI) \n",
        "  \n",
        "\n",
        "compound_interest(10000, 10.25, 5) \n",
        "  "
      ],
      "execution_count": 0,
      "outputs": [
        {
          "output_type": "stream",
          "text": [
            "Compound interest is 16288.946267774416\n"
          ],
          "name": "stdout"
        }
      ]
    },
    {
      "cell_type": "code",
      "metadata": {
        "id": "h4blsCSiqAIr",
        "colab_type": "code",
        "outputId": "5b7fa8f2-ed20-4b15-e24c-9eab2145af60",
        "colab": {
          "base_uri": "https://localhost:8080/",
          "height": 51
        }
      },
      "source": [
        "celsius = float(input(\"Enter temperature in celsius: \"))\n",
        "fahrenheit = (celsius * 9/5) + 32\n",
        "print('%.2f Celsius is: %0.2f Fahrenheit' %(celsius, fahrenheit))"
      ],
      "execution_count": 0,
      "outputs": [
        {
          "output_type": "stream",
          "text": [
            "Enter temperature in celsius: 33\n",
            "33.00 Celsius is: 91.40 Fahrenheit\n"
          ],
          "name": "stdout"
        }
      ]
    },
    {
      "cell_type": "code",
      "metadata": {
        "id": "vni40cYqqQr6",
        "colab_type": "code",
        "outputId": "9ad1fa4f-eb7c-4eb8-c247-f896cc6dfeaa",
        "colab": {
          "base_uri": "https://localhost:8080/",
          "height": 68
        }
      },
      "source": [
        "num1 = int(input(\"Enter the first number: \"))\n",
        "num2 = int(input(\"Enter the second number: \"))\n",
        "print(max(num1, num2), \"is greater\")"
      ],
      "execution_count": 0,
      "outputs": [
        {
          "output_type": "stream",
          "text": [
            "Enter the first number: 2\n",
            "Enter the second number: -1\n",
            "2 is greater\n"
          ],
          "name": "stdout"
        }
      ]
    },
    {
      "cell_type": "code",
      "metadata": {
        "id": "KTff0GW1qYMi",
        "colab_type": "code",
        "outputId": "2482f47b-5e56-4391-df18-b1c65fd3e80f",
        "colab": {
          "base_uri": "https://localhost:8080/",
          "height": 85
        }
      },
      "source": [
        "pi=22/7\n",
        "height = float(input('Height of cylinder: '))\n",
        "radian = float(input('Radius of cylinder: '))\n",
        "volume = pi * radian * radian * height\n",
        "sur_area = ((2*pi*radian) * height) + ((pi*radian**2)*2)\n",
        "print(\"Volume is: \", volume)\n",
        "print(\"Surface Area is: \", sur_area)\n"
      ],
      "execution_count": 0,
      "outputs": [
        {
          "output_type": "stream",
          "text": [
            "Height of cylinder: 6\n",
            "Radius of cylinder: 4\n",
            "Volume is:  301.7142857142857\n",
            "Surface Area is:  251.42857142857144\n"
          ],
          "name": "stdout"
        }
      ]
    },
    {
      "cell_type": "code",
      "metadata": {
        "id": "bs-UTfOOfUyk",
        "colab_type": "code",
        "colab": {}
      },
      "source": [
        ""
      ],
      "execution_count": 0,
      "outputs": []
    },
    {
      "cell_type": "code",
      "metadata": {
        "id": "h6tldVQrcmpy",
        "colab_type": "code",
        "outputId": "e8266028-a73e-4169-8e2a-db2b8c10b6e4",
        "colab": {
          "base_uri": "https://localhost:8080/",
          "height": 136
        }
      },
      "source": [
        "import math\n",
        "radius = float(input('Please Enter the Radius of a Cone: '))\n",
        "height = float(input('Please Enter the Height of a Cone: '))\n",
        "l = math.sqrt(radius * radius + height * height)\n",
        "SA = math.pi * radius * (radius + l)\n",
        "Volume = (1.0/3) * math.pi * radius * radius * height\n",
        "LSA = math.pi * radius  * l\n",
        "print(\"\\n Length of a Side (Slant)of a Cone = %.2f\" %l)\n",
        "print(\" The Surface Area of a Cone = %.2f \" %SA)\n",
        "print(\" The Volume of a Cone = %.2f\" %Volume);\n",
        "print(\" The Lateral Surface Area of a Cone = %.2f \" %LSA)"
      ],
      "execution_count": 0,
      "outputs": [
        {
          "output_type": "stream",
          "text": [
            "Please Enter the Radius of a Cone: 6\n",
            "Please Enter the Height of a Cone: 6\n",
            "\n",
            " Length of a Side (Slant)of a Cone = 8.49\n",
            " The Surface Area of a Cone = 273.04 \n",
            " The Volume of a Cone = 226.19\n",
            " The Lateral Surface Area of a Cone = 159.94 \n"
          ],
          "name": "stdout"
        }
      ]
    },
    {
      "cell_type": "code",
      "metadata": {
        "id": "hDL9G7gkye93",
        "colab_type": "code",
        "outputId": "97290153-f607-48e2-be6e-18410543c9fc",
        "colab": {
          "base_uri": "https://localhost:8080/",
          "height": 34
        }
      },
      "source": [
        "def myMax(list1): \n",
        "  \n",
        "  \n",
        "    max = list1[0] \n",
        "   \n",
        "   \n",
        "    for x in list1: \n",
        "        if x > max : \n",
        "             max = x \n",
        "      \n",
        "    \n",
        "    return max\n",
        "  \n",
        "  \n",
        "\n",
        "list1 = [10, 20, 45, 99] \n",
        "print(\"Largest element is:\", myMax(list1)) "
      ],
      "execution_count": 0,
      "outputs": [
        {
          "output_type": "stream",
          "text": [
            "Largest element is: 99\n"
          ],
          "name": "stdout"
        }
      ]
    },
    {
      "cell_type": "code",
      "metadata": {
        "id": "xZFDxsYmfYMd",
        "colab_type": "code",
        "outputId": "983726b3-fba1-4571-863d-89b5f7d27554",
        "colab": {
          "base_uri": "https://localhost:8080/",
          "height": 51
        }
      },
      "source": [
        "num=int(input(\"Enter a number for check odd or even: \"))\n",
        "def find_Evenodd(num):\n",
        "    \n",
        "    if(num%2==0):\n",
        "        print(num,\" Is an even\")\n",
        "    else:\n",
        "        print(num,\" is an odd\")\n",
        "find_Evenodd(num);"
      ],
      "execution_count": 0,
      "outputs": [
        {
          "output_type": "stream",
          "text": [
            "Enter a number for check odd or even: 9\n",
            "9  is an odd\n"
          ],
          "name": "stdout"
        }
      ]
    },
    {
      "cell_type": "code",
      "metadata": {
        "id": "L-fmhDnpfzWG",
        "colab_type": "code",
        "outputId": "b9c3c957-dbc4-4976-92fd-fac9651b2550",
        "colab": {
          "base_uri": "https://localhost:8080/",
          "height": 34
        }
      },
      "source": [
        "def recur_factorial(n):\n",
        "   if n == 1:\n",
        "       return n\n",
        "   else:\n",
        "       return n*recur_factorial(n-1)\n",
        "num=7\n",
        "if num < 0:\n",
        "   print(\"Sorry, factorial does not exist for negative numbers\")\n",
        "elif num == 0:\n",
        "   print(\"The factorial of 0 is 1\")\n",
        "else:\n",
        "   print(\"The factorial of\", num, \"is\", recur_factorial(num))"
      ],
      "execution_count": 0,
      "outputs": [
        {
          "output_type": "stream",
          "text": [
            "The factorial of 7 is 5040\n"
          ],
          "name": "stdout"
        }
      ]
    }
  ]
}